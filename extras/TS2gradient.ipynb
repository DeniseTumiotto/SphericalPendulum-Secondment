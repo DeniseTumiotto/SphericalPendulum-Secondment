{
 "cells": [
  {
   "cell_type": "markdown",
   "metadata": {},
   "source": [
    "### Gradient Flow on $TS^2$ ###\n",
    "\n",
    "Let $(q,v)\\in TS^2$ be an element of the tangent bundle of the 2-dimensional sphere, embedded in $\\mathbb{R}^3$.\n",
    "\n",
    "We consider now the dynamical system resulting from the gradient of a given energy function\n",
    "\n",
    "$$\\dot{y} = -\\nabla(E(q,v))$$\n"
   ]
  },
  {
   "cell_type": "code",
   "execution_count": 24,
   "metadata": {},
   "outputs": [],
   "source": [
    "import autograd.numpy as np\n",
    "import matplotlib.pyplot as plt\n",
    "from scipy.linalg import expm\n",
    "from scipy.optimize import fsolve\n",
    "from autograd import grad"
   ]
  },
  {
   "cell_type": "code",
   "execution_count": 28,
   "metadata": {},
   "outputs": [],
   "source": [
    "def skw(x):\n",
    "    return np.array([[0,-x[2],x[1]],[x[2],0,-x[0]],[-x[1],x[0],0]])"
   ]
  },
  {
   "cell_type": "code",
   "execution_count": 26,
   "metadata": {},
   "outputs": [],
   "source": [
    "def energy(y):\n",
    "    return 0.5*np.transpose(y[:3])@D@y[:3] + 0.5*np.transpose(y[3:])@M@y[3:]\n",
    "\n",
    "def riemannGrad(y):\n",
    "    myGrad = grad(energy)\n",
    "    gE = myGrad(y)\n",
    "    u = (np.cross(y[:3], gE[:3]) - np.transpose(y[:3])*gE[3:]*np.cross(y[:3], y[3:])).reshape(3,)\n",
    "    v = np.cross(y[:3], gE[3:]).reshape(3,)\n",
    "    return np.array([u, v]).reshape(6,)\n",
    "\n",
    "def LieEulerStep(y0, y, dt):\n",
    "    return actionSE3(expSE3(dt*riemannGrad(y)), y0)\n",
    "\n",
    "def riemannDist(y, z):\n",
    "    return 2*np.arcsin(np.linalg.norm(y-z,2)/2)\n",
    "\n",
    "def expSE3(x):\n",
    "    u = x[:3]\n",
    "    v = x[3:]\n",
    "    theta = np.linalg.norm(u)\n",
    "\n",
    "    V = expSO3(u, theta)\n",
    "    # tangent map on SO(3) and return all\n",
    "    \n",
    "def expSO3(x, om):\n",
    "    return np.eye(3)+(np.sin(om)/om)*skw(x)+((1-np.cos(om))/om**2)*(skw(x)@skw(x))\n",
    "    \n",
    "def actionSE3(a, b):\n",
    "    return np.array([a[:3,:3]@b[:3],a[:3,:3]@b[3:]+np.cross(a[3:,-1], a[:3,:3]@b[:3])])"
   ]
  },
  {
   "cell_type": "code",
   "execution_count": 27,
   "metadata": {},
   "outputs": [
    {
     "name": "stderr",
     "output_type": "stream",
     "text": [
      "C:\\Users\\denis\\AppData\\Roaming\\Python\\Python310\\site-packages\\autograd\\tracer.py:48: RuntimeWarning: invalid value encountered in arcsin\n",
      "  return f_raw(*args, **kwargs)\n",
      "C:\\Users\\denis\\AppData\\Roaming\\Python\\Python310\\site-packages\\scipy\\optimize\\_minpack_py.py:175: RuntimeWarning: The iteration is not making good progress, as measured by the \n",
      "  improvement from the last ten iterations.\n",
      "  warnings.warn(msg, RuntimeWarning)\n",
      "C:\\Users\\denis\\AppData\\Roaming\\Python\\Python310\\site-packages\\scipy\\optimize\\_minpack_py.py:175: RuntimeWarning: The iteration is not making good progress, as measured by the \n",
      "  improvement from the last five Jacobian evaluations.\n",
      "  warnings.warn(msg, RuntimeWarning)\n"
     ]
    },
    {
     "ename": "ValueError",
     "evalue": "cannot convert float NaN to integer",
     "output_type": "error",
     "traceback": [
      "\u001b[1;31m---------------------------------------------------------------------------\u001b[0m",
      "\u001b[1;31mValueError\u001b[0m                                Traceback (most recent call last)",
      "\u001b[1;32mc:\\Users\\denis\\Desktop\\PHD\\code\\SphericalPendulum-Secondment\\extras\\TS2gradient.ipynb Cell 5\u001b[0m in \u001b[0;36m<cell line: 31>\u001b[1;34m()\u001b[0m\n\u001b[0;32m     <a href='vscode-notebook-cell:/c%3A/Users/denis/Desktop/PHD/code/SphericalPendulum-Secondment/extras/TS2gradient.ipynb#W3sZmlsZQ%3D%3D?line=31'>32</a>\u001b[0m \u001b[39mfor\u001b[39;00m j \u001b[39min\u001b[39;00m \u001b[39mrange\u001b[39m(\u001b[39m2\u001b[39m):\n\u001b[0;32m     <a href='vscode-notebook-cell:/c%3A/Users/denis/Desktop/PHD/code/SphericalPendulum-Secondment/extras/TS2gradient.ipynb#W3sZmlsZQ%3D%3D?line=32'>33</a>\u001b[0m     YY[\u001b[39m0\u001b[39m,j,:,k\u001b[39m+\u001b[39m\u001b[39m1\u001b[39m] \u001b[39m=\u001b[39m LieEulerStep(YY[\u001b[39m0\u001b[39m,j,:,\u001b[39m0\u001b[39m],YY[\u001b[39m0\u001b[39m,j,:,\u001b[39m0\u001b[39m],h[k])\n\u001b[1;32m---> <a href='vscode-notebook-cell:/c%3A/Users/denis/Desktop/PHD/code/SphericalPendulum-Secondment/extras/TS2gradient.ipynb#W3sZmlsZQ%3D%3D?line=33'>34</a>\u001b[0m     YY[\u001b[39m1\u001b[39m,j,:,k\u001b[39m+\u001b[39m\u001b[39m1\u001b[39m] \u001b[39m=\u001b[39m fsolve(my_fun, YY[\u001b[39m1\u001b[39;49m,j,:,k], args\u001b[39m=\u001b[39;49m(YY[\u001b[39m1\u001b[39;49m,j,:,\u001b[39m0\u001b[39;49m], h[k]))\n\u001b[0;32m     <a href='vscode-notebook-cell:/c%3A/Users/denis/Desktop/PHD/code/SphericalPendulum-Secondment/extras/TS2gradient.ipynb#W3sZmlsZQ%3D%3D?line=34'>35</a>\u001b[0m     \u001b[39m# YY[2,j,:,k+1] = exact solution\u001b[39;00m\n\u001b[0;32m     <a href='vscode-notebook-cell:/c%3A/Users/denis/Desktop/PHD/code/SphericalPendulum-Secondment/extras/TS2gradient.ipynb#W3sZmlsZQ%3D%3D?line=35'>36</a>\u001b[0m RD[\u001b[39m0\u001b[39m,k\u001b[39m+\u001b[39m\u001b[39m1\u001b[39m] \u001b[39m=\u001b[39m riemannDist(YY[\u001b[39m0\u001b[39m,\u001b[39m0\u001b[39m,:,k\u001b[39m+\u001b[39m\u001b[39m1\u001b[39m],YY[\u001b[39m0\u001b[39m,\u001b[39m1\u001b[39m,:,k\u001b[39m+\u001b[39m\u001b[39m1\u001b[39m])\n",
      "File \u001b[1;32m~\\AppData\\Roaming\\Python\\Python310\\site-packages\\scipy\\optimize\\_minpack_py.py:160\u001b[0m, in \u001b[0;36mfsolve\u001b[1;34m(func, x0, args, fprime, full_output, col_deriv, xtol, maxfev, band, epsfcn, factor, diag)\u001b[0m\n\u001b[0;32m     49\u001b[0m \u001b[39m\"\"\"\u001b[39;00m\n\u001b[0;32m     50\u001b[0m \u001b[39mFind the roots of a function.\u001b[39;00m\n\u001b[0;32m     51\u001b[0m \n\u001b[1;32m   (...)\u001b[0m\n\u001b[0;32m    150\u001b[0m \n\u001b[0;32m    151\u001b[0m \u001b[39m\"\"\"\u001b[39;00m\n\u001b[0;32m    152\u001b[0m options \u001b[39m=\u001b[39m {\u001b[39m'\u001b[39m\u001b[39mcol_deriv\u001b[39m\u001b[39m'\u001b[39m: col_deriv,\n\u001b[0;32m    153\u001b[0m            \u001b[39m'\u001b[39m\u001b[39mxtol\u001b[39m\u001b[39m'\u001b[39m: xtol,\n\u001b[0;32m    154\u001b[0m            \u001b[39m'\u001b[39m\u001b[39mmaxfev\u001b[39m\u001b[39m'\u001b[39m: maxfev,\n\u001b[1;32m   (...)\u001b[0m\n\u001b[0;32m    157\u001b[0m            \u001b[39m'\u001b[39m\u001b[39mfactor\u001b[39m\u001b[39m'\u001b[39m: factor,\n\u001b[0;32m    158\u001b[0m            \u001b[39m'\u001b[39m\u001b[39mdiag\u001b[39m\u001b[39m'\u001b[39m: diag}\n\u001b[1;32m--> 160\u001b[0m res \u001b[39m=\u001b[39m _root_hybr(func, x0, args, jac\u001b[39m=\u001b[39mfprime, \u001b[39m*\u001b[39m\u001b[39m*\u001b[39moptions)\n\u001b[0;32m    161\u001b[0m \u001b[39mif\u001b[39;00m full_output:\n\u001b[0;32m    162\u001b[0m     x \u001b[39m=\u001b[39m res[\u001b[39m'\u001b[39m\u001b[39mx\u001b[39m\u001b[39m'\u001b[39m]\n",
      "File \u001b[1;32m~\\AppData\\Roaming\\Python\\Python310\\site-packages\\scipy\\optimize\\_minpack_py.py:237\u001b[0m, in \u001b[0;36m_root_hybr\u001b[1;34m(func, x0, args, jac, col_deriv, xtol, maxfev, band, eps, factor, diag, **unknown_options)\u001b[0m\n\u001b[0;32m    235\u001b[0m     \u001b[39mif\u001b[39;00m maxfev \u001b[39m==\u001b[39m \u001b[39m0\u001b[39m:\n\u001b[0;32m    236\u001b[0m         maxfev \u001b[39m=\u001b[39m \u001b[39m200\u001b[39m \u001b[39m*\u001b[39m (n \u001b[39m+\u001b[39m \u001b[39m1\u001b[39m)\n\u001b[1;32m--> 237\u001b[0m     retval \u001b[39m=\u001b[39m _minpack\u001b[39m.\u001b[39;49m_hybrd(func, x0, args, \u001b[39m1\u001b[39;49m, xtol, maxfev,\n\u001b[0;32m    238\u001b[0m                              ml, mu, epsfcn, factor, diag)\n\u001b[0;32m    239\u001b[0m \u001b[39melse\u001b[39;00m:\n\u001b[0;32m    240\u001b[0m     _check_func(\u001b[39m'\u001b[39m\u001b[39mfsolve\u001b[39m\u001b[39m'\u001b[39m, \u001b[39m'\u001b[39m\u001b[39mfprime\u001b[39m\u001b[39m'\u001b[39m, Dfun, x0, args, n, (n, n))\n",
      "\u001b[1;32mc:\\Users\\denis\\Desktop\\PHD\\code\\SphericalPendulum-Secondment\\extras\\TS2gradient.ipynb Cell 5\u001b[0m in \u001b[0;36m<lambda>\u001b[1;34m(x, x0, dt)\u001b[0m\n\u001b[0;32m     <a href='vscode-notebook-cell:/c%3A/Users/denis/Desktop/PHD/code/SphericalPendulum-Secondment/extras/TS2gradient.ipynb#W3sZmlsZQ%3D%3D?line=25'>26</a>\u001b[0m YY[\u001b[39m1\u001b[39m,:,:\u001b[39m3\u001b[39m,\u001b[39m0\u001b[39m]\u001b[39m=\u001b[39mnp\u001b[39m.\u001b[39mcopy(y0)\n\u001b[0;32m     <a href='vscode-notebook-cell:/c%3A/Users/denis/Desktop/PHD/code/SphericalPendulum-Secondment/extras/TS2gradient.ipynb#W3sZmlsZQ%3D%3D?line=26'>27</a>\u001b[0m YY[\u001b[39m2\u001b[39m,:,:\u001b[39m3\u001b[39m,\u001b[39m0\u001b[39m]\u001b[39m=\u001b[39mnp\u001b[39m.\u001b[39mcopy(y0)\n\u001b[1;32m---> <a href='vscode-notebook-cell:/c%3A/Users/denis/Desktop/PHD/code/SphericalPendulum-Secondment/extras/TS2gradient.ipynb#W3sZmlsZQ%3D%3D?line=28'>29</a>\u001b[0m my_fun \u001b[39m=\u001b[39m \u001b[39mlambda\u001b[39;00m x, x0, dt : \u001b[39m-\u001b[39m x \u001b[39m+\u001b[39m LieEulerStep(x0, x, dt)\n\u001b[0;32m     <a href='vscode-notebook-cell:/c%3A/Users/denis/Desktop/PHD/code/SphericalPendulum-Secondment/extras/TS2gradient.ipynb#W3sZmlsZQ%3D%3D?line=30'>31</a>\u001b[0m \u001b[39mfor\u001b[39;00m k \u001b[39min\u001b[39;00m \u001b[39mrange\u001b[39m(N):\n\u001b[0;32m     <a href='vscode-notebook-cell:/c%3A/Users/denis/Desktop/PHD/code/SphericalPendulum-Secondment/extras/TS2gradient.ipynb#W3sZmlsZQ%3D%3D?line=31'>32</a>\u001b[0m     \u001b[39mfor\u001b[39;00m j \u001b[39min\u001b[39;00m \u001b[39mrange\u001b[39m(\u001b[39m2\u001b[39m):\n",
      "\u001b[1;32mc:\\Users\\denis\\Desktop\\PHD\\code\\SphericalPendulum-Secondment\\extras\\TS2gradient.ipynb Cell 5\u001b[0m in \u001b[0;36mLieEulerStep\u001b[1;34m(y0, y, dt)\u001b[0m\n\u001b[0;32m     <a href='vscode-notebook-cell:/c%3A/Users/denis/Desktop/PHD/code/SphericalPendulum-Secondment/extras/TS2gradient.ipynb#W3sZmlsZQ%3D%3D?line=10'>11</a>\u001b[0m \u001b[39mdef\u001b[39;00m \u001b[39mLieEulerStep\u001b[39m(y0, y, dt):\n\u001b[1;32m---> <a href='vscode-notebook-cell:/c%3A/Users/denis/Desktop/PHD/code/SphericalPendulum-Secondment/extras/TS2gradient.ipynb#W3sZmlsZQ%3D%3D?line=11'>12</a>\u001b[0m     \u001b[39mreturn\u001b[39;00m expm(dt\u001b[39m*\u001b[39;49mriemannGrad(y))\u001b[39m@y0\u001b[39m\n",
      "File \u001b[1;32m~\\AppData\\Roaming\\Python\\Python310\\site-packages\\scipy\\linalg\\_matfuncs.py:255\u001b[0m, in \u001b[0;36mexpm\u001b[1;34m(A)\u001b[0m\n\u001b[0;32m    253\u001b[0m \u001b[39m# Input checking and conversion is provided by sparse.linalg.expm().\u001b[39;00m\n\u001b[0;32m    254\u001b[0m \u001b[39mimport\u001b[39;00m \u001b[39mscipy\u001b[39;00m\u001b[39m.\u001b[39;00m\u001b[39msparse\u001b[39;00m\u001b[39m.\u001b[39;00m\u001b[39mlinalg\u001b[39;00m\n\u001b[1;32m--> 255\u001b[0m \u001b[39mreturn\u001b[39;00m scipy\u001b[39m.\u001b[39;49msparse\u001b[39m.\u001b[39;49mlinalg\u001b[39m.\u001b[39;49mexpm(A)\n",
      "File \u001b[1;32m~\\AppData\\Roaming\\Python\\Python310\\site-packages\\scipy\\sparse\\linalg\\_matfuncs.py:590\u001b[0m, in \u001b[0;36mexpm\u001b[1;34m(A)\u001b[0m\n\u001b[0;32m    545\u001b[0m \u001b[39mdef\u001b[39;00m \u001b[39mexpm\u001b[39m(A):\n\u001b[0;32m    546\u001b[0m     \u001b[39m\"\"\"\u001b[39;00m\n\u001b[0;32m    547\u001b[0m \u001b[39m    Compute the matrix exponential using Pade approximation.\u001b[39;00m\n\u001b[0;32m    548\u001b[0m \n\u001b[1;32m   (...)\u001b[0m\n\u001b[0;32m    588\u001b[0m \u001b[39m           [  0.        ,   0.        ,  20.08553692]])\u001b[39;00m\n\u001b[0;32m    589\u001b[0m \u001b[39m    \"\"\"\u001b[39;00m\n\u001b[1;32m--> 590\u001b[0m     \u001b[39mreturn\u001b[39;00m _expm(A, use_exact_onenorm\u001b[39m=\u001b[39;49m\u001b[39m'\u001b[39;49m\u001b[39mauto\u001b[39;49m\u001b[39m'\u001b[39;49m)\n",
      "File \u001b[1;32m~\\AppData\\Roaming\\Python\\Python310\\site-packages\\scipy\\sparse\\linalg\\_matfuncs.py:669\u001b[0m, in \u001b[0;36m_expm\u001b[1;34m(A, use_exact_onenorm)\u001b[0m\n\u001b[0;32m    667\u001b[0m     s \u001b[39m=\u001b[39m \u001b[39m0\u001b[39m\n\u001b[0;32m    668\u001b[0m \u001b[39melse\u001b[39;00m:\n\u001b[1;32m--> 669\u001b[0m     s \u001b[39m=\u001b[39m \u001b[39mmax\u001b[39m(\u001b[39mint\u001b[39;49m(np\u001b[39m.\u001b[39;49mceil(np\u001b[39m.\u001b[39;49mlog2(eta_5 \u001b[39m/\u001b[39;49m theta_13))), \u001b[39m0\u001b[39m)\n\u001b[0;32m    670\u001b[0m s \u001b[39m=\u001b[39m s \u001b[39m+\u001b[39m _ell(\u001b[39m2\u001b[39m\u001b[39m*\u001b[39m\u001b[39m*\u001b[39m\u001b[39m-\u001b[39ms \u001b[39m*\u001b[39m h\u001b[39m.\u001b[39mA, \u001b[39m13\u001b[39m)\n\u001b[0;32m    671\u001b[0m U, V \u001b[39m=\u001b[39m h\u001b[39m.\u001b[39mpade13_scaled(s)\n",
      "\u001b[1;31mValueError\u001b[0m: cannot convert float NaN to integer"
     ]
    }
   ],
   "source": [
    "I1 = np.random.rand(1)\n",
    "I3 = np.random.rand(1)\n",
    "if I1 > I3:\n",
    "    tmp = np.copy(I3)\n",
    "    I3 = np.copy(I1)\n",
    "    I1 = np.copy(tmp)\n",
    "I2 = np.copy(I1)\n",
    "diag = np.array([1/I1, 1/I2, 1/I3]).reshape(3,)\n",
    "D = np.diag(diag)\n",
    "\n",
    "M = np.eye(3)\n",
    "\n",
    "h = np.arange(0.1,10.0,0.1)\n",
    "N = np.size(h)\n",
    "\n",
    "# dimensions: method, initial condition, coordinate, time step size\n",
    "YY = np.zeros((3,2,6,N+1))\n",
    "RD = np.zeros((3,N+1))\n",
    "\n",
    "# initialization\n",
    "y0 = np.random.rand(2,3)\n",
    "normy0 = np.linalg.norm(y0, axis=1)\n",
    "y0[0,:] = y0[0,:]/normy0[0]\n",
    "y0[1,:] = y0[1,:]/normy0[1]\n",
    "YY[0,:,:3,0]=np.copy(y0)\n",
    "YY[1,:,:3,0]=np.copy(y0)\n",
    "YY[2,:,:3,0]=np.copy(y0)\n",
    "\n",
    "my_fun = lambda x, x0, dt : - x + LieEulerStep(x0, x, dt)\n",
    "\n",
    "for k in range(N):\n",
    "    for j in range(2):\n",
    "        YY[0,j,:,k+1] = LieEulerStep(YY[0,j,:,0],YY[0,j,:,0],h[k])\n",
    "        YY[1,j,:,k+1] = fsolve(my_fun, YY[1,j,:,k], args=(YY[1,j,:,0], h[k]))\n",
    "        # YY[2,j,:,k+1] = exact solution\n",
    "    RD[0,k+1] = riemannDist(YY[0,0,:,k+1],YY[0,1,:,k+1])\n",
    "    RD[1,k+1] = riemannDist(YY[1,0,:,k+1],YY[1,1,:,k+1])\n",
    "    # RD[2,k+1] = riemannDist(YY[2,0,:,k+1],YY[2,1,:,k+1])\n",
    "\n",
    "\n",
    "fig1 = plt.figure()\n",
    "plt.plot(h, RD[0,1:], label='one step explicit Lie Euler')\n",
    "plt.plot(h, RD[1,1:], label='one step implicit Lie Euler')\n",
    "# plt.plot(h, RD[2,1:], label='exact solution')\n",
    "plt.plot(h, RD[0,0]*np.ones((N, )), label='initial distance')\n",
    "plt.legend()\n",
    "plt.grid()\n",
    "\n",
    "plt.show()"
   ]
  },
  {
   "cell_type": "code",
   "execution_count": 21,
   "metadata": {},
   "outputs": [
    {
     "name": "stdout",
     "output_type": "stream",
     "text": [
      "1.0\n",
      "1.0\n"
     ]
    }
   ],
   "source": [
    "c = np.array([[ 1, 2, 3],\n",
    "              [-1, 1, 4]])\n",
    "\n",
    "print(np.linalg.norm(c[0,:]/np.linalg.norm(c, axis=1)[0]))\n",
    "print(np.linalg.norm(c[1,:]/np.linalg.norm(c, axis=1)[1]))"
   ]
  }
 ],
 "metadata": {
  "kernelspec": {
   "display_name": "Python 3.10.4 64-bit",
   "language": "python",
   "name": "python3"
  },
  "language_info": {
   "codemirror_mode": {
    "name": "ipython",
    "version": 3
   },
   "file_extension": ".py",
   "mimetype": "text/x-python",
   "name": "python",
   "nbconvert_exporter": "python",
   "pygments_lexer": "ipython3",
   "version": "3.10.4"
  },
  "orig_nbformat": 4,
  "vscode": {
   "interpreter": {
    "hash": "26de051ba29f2982a8de78e945f0abaf191376122a1563185a90213a26c5da77"
   }
  }
 },
 "nbformat": 4,
 "nbformat_minor": 2
}
