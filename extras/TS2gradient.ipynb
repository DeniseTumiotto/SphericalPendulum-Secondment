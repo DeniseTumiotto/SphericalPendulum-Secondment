{
 "cells": [
  {
   "cell_type": "markdown",
   "metadata": {},
   "source": [
    "### Gradient Flow on $TS^2$ ###\n",
    "\n",
    "Let $(q,v)\\in TS^2$ be an element of the tangent bundle of the 2-dimensional sphere, embedded in $\\mathbb{R}^3$.\n",
    "\n",
    "We consider now the dynamical system resulting from the gradient of a given energy function\n",
    "\n",
    "$$\\dot{y} = -\\nabla(E(q,v))$$\n"
   ]
  },
  {
   "cell_type": "code",
   "execution_count": null,
   "metadata": {},
   "outputs": [],
   "source": [
    "import autograd.numpy as np\n",
    "import matplotlib.pyplot as plt\n",
    "from scipy.linalg import expm\n",
    "from scipy.optimize import fsolve\n",
    "from autograd import grad"
   ]
  },
  {
   "cell_type": "code",
   "execution_count": null,
   "metadata": {},
   "outputs": [],
   "source": [
    "def skw(x):\n",
    "    return np.array([[0,-x[2],x[1]],[x[2],0,-x[0]],[-x[1],x[0],0]])"
   ]
  },
  {
   "cell_type": "code",
   "execution_count": null,
   "metadata": {},
   "outputs": [],
   "source": [
    "def energy(y):\n",
    "    return 0.5*np.transpose(y[:3])@D@y[:3] + 0.5*np.transpose(y[3:])@M@y[3:]\n",
    "\n",
    "myGrad = grad(energy)\n",
    "\n",
    "def riemannGrad(y):\n",
    "    gE = myGrad(y)\n",
    "    # print(gE[3:])\n",
    "    E = energy(y)\n",
    "    u = (np.cross(y[:3], gE[:3]) - np.transpose(y[:3])*gE[3:]*np.cross(y[:3], y[3:])).reshape(3,)\n",
    "    v = np.cross(y[:3], gE[3:]).reshape(3,)\n",
    "    return np.array([u, v]).reshape(6,)\n",
    "\n",
    "def LieEulerStep(y0, y, dt):\n",
    "    return actionSE3(expSE3(-dt*riemannGrad(y)), y0)\n",
    "\n",
    "def riemannDist(y, z):\n",
    "    return 2*np.arcsin(np.linalg.norm(y-z,2)/2)\n",
    "\n",
    "def expSE3(x):\n",
    "    u = x[:3]\n",
    "    v = x[3:]\n",
    "    theta = np.linalg.norm(u)\n",
    "\n",
    "    V = expSO3(u, theta)\n",
    "    T = tanSO3(u, theta)\n",
    "    return np.concatenate([V, (np.transpose(T)@v).reshape(3,1)], axis=1)\n",
    "\n",
    "def tanSO3(x, om):\n",
    "    return np.eye(3)+((np.cos(om)-1)/om**2)*skw(x)+((1-(np.sin(om)/om))/om**2)*(skw(x)@skw(x))\n",
    "    \n",
    "def expSO3(x, om):\n",
    "    return np.eye(3)+(np.sin(om)/om)*skw(x)+((1-np.cos(om))/om**2)*(skw(x)@skw(x))\n",
    "    \n",
    "def actionSE3(a, b):\n",
    "    return np.array([a[:3,:3]@b[:3],a[:3,:3]@b[3:]+np.cross(a[:,-1], a[:3,:3]@b[:3])]).reshape(6,)"
   ]
  },
  {
   "cell_type": "code",
   "execution_count": null,
   "metadata": {},
   "outputs": [],
   "source": [
    "I1 = np.random.rand(1)\n",
    "I3 = np.random.rand(1)\n",
    "if I1 > I3:\n",
    "    tmp = np.copy(I3)\n",
    "    I3 = np.copy(I1)\n",
    "    I1 = np.copy(tmp)\n",
    "I2 = np.copy(I1)\n",
    "diag = np.array([1/I1, 1/I2, 1/I3]).reshape(3,)\n",
    "D = np.diag(diag)\n",
    "\n",
    "M = np.eye(3)\n",
    "# M = np.array([[2, 0, 0],[0, 2, 0],[0, 3, 0]])\n",
    "\n",
    "h = np.arange(0.1,10.0,0.1)\n",
    "N = np.size(h)\n",
    "\n",
    "# dimensions: method, initial condition, coordinate, time step size\n",
    "YY = np.zeros((3,2,6,N+1))\n",
    "RD = np.zeros((3,N+1))\n",
    "\n",
    "# initialization\n",
    "y0 = np.random.rand(2,3)\n",
    "y0[:, -1] = -y0[:, -1]\n",
    "normy0 = np.linalg.norm(y0, axis=1)\n",
    "y0[0,:] = y0[0,:]/normy0[0]\n",
    "y0[1,:] = y0[1,:]/normy0[1]\n",
    "v0 = np.random.rand(2,3)\n",
    "v0[0,:] = np.cross(y0[0,:],v0[0,:])\n",
    "v0[1,:] = np.cross(y0[1,:],v0[1,:])\n",
    "YY[0,:,:3,0]=np.copy(y0)\n",
    "YY[1,:,:3,0]=np.copy(y0)\n",
    "YY[2,:,:3,0]=np.copy(y0)\n",
    "YY[0,:,3:,0]=np.copy(v0)\n",
    "YY[1,:,3:,0]=np.copy(v0)\n",
    "YY[2,:,3:,0]=np.copy(v0)\n",
    "RD[0,0] = riemannDist(YY[0,0,:,0],YY[0,1,:,0])\n",
    "RD[1,0] = riemannDist(YY[1,0,:,0],YY[1,1,:,0])\n",
    "\n",
    "my_fun = lambda x, x0, dt : - x + LieEulerStep(x0, x, dt)\n",
    "\n",
    "for k in range(N):\n",
    "    for j in range(2):\n",
    "        YY[0,j,:,k+1] = LieEulerStep(YY[0,j,:,0],YY[0,j,:,0],h[k])\n",
    "        YY[1,j,:,k+1] = fsolve(my_fun, YY[1,j,:,k], args=(YY[1,j,:,0], h[k]))\n",
    "        # YY[2,j,:,k+1] = exact solution\n",
    "    RD[0,k+1] = riemannDist(YY[0,0,:,k+1],YY[0,1,:,k+1])\n",
    "    RD[1,k+1] = riemannDist(YY[1,0,:,k+1],YY[1,1,:,k+1])\n",
    "    # RD[2,k+1] = riemannDist(YY[2,0,:,k+1],YY[2,1,:,k+1])\n",
    "\n",
    "np.save('test',YY)\n",
    "\n",
    "fig1 = plt.figure()\n",
    "plt.plot(h, RD[0,1:], label='one step explicit Lie Euler')\n",
    "plt.plot(h, RD[1,1:], label='one step implicit Lie Euler')\n",
    "# plt.plot(h, RD[2,1:], label='exact solution')\n",
    "plt.plot(h, RD[0,0]*np.ones((N, )), label='initial distance')\n",
    "plt.legend()\n",
    "plt.grid()\n",
    "\n",
    "plt.show()"
   ]
  },
  {
   "cell_type": "code",
   "execution_count": null,
   "metadata": {},
   "outputs": [],
   "source": [
    "import numpy\n",
    "plt.rcParams[\"figure.figsize\"] = [10.00, 5.00]\n",
    "plt.rcParams[\"figure.autolayout\"] = True\n",
    "fig = plt.figure()\n",
    "ax = fig.add_subplot(projection = '3d')\n",
    "u, v = numpy.mgrid[0: 2 * np.pi: 30j, 0: np.pi: 20j]\n",
    "x = np.cos(u) * np.sin(v)\n",
    "y = np.sin(u) * np.sin(v)\n",
    "z = np.cos(v)\n",
    "ax.plot_surface(x, y, z, cmap = plt.cm.YlGnBu_r,alpha=0.3)\n",
    "\n",
    "ax.plot(YY[0,0,0,:],YY[0,0,1,:],YY[0,0,2,:],'blue')\n",
    "ax.plot(YY[0,1,0,:],YY[0,1,1,:],YY[0,1,2,:],'red')\n",
    "\n",
    "\n",
    "fig = plt.figure()\n",
    "ax = fig.add_subplot(projection = '3d')\n",
    "u, v = numpy.mgrid[0: 2 * np.pi: 30j, 0: np.pi: 20j]\n",
    "x = np.cos(u) * np.sin(v)\n",
    "y = np.sin(u) * np.sin(v)\n",
    "z = np.cos(v)\n",
    "ax.plot_surface(x, y, z, cmap = plt.cm.YlGnBu_r,alpha=0.3)\n",
    "\n",
    "ax.plot(YY[1,0,0,:],YY[1,0,1,:],YY[1,0,2,:],'blue')\n",
    "ax.plot(YY[1,1,0,:],YY[1,1,1,:],YY[1,1,2,:],'red')\n",
    "\n",
    "plt.show()"
   ]
  },
  {
   "cell_type": "code",
   "execution_count": null,
   "metadata": {},
   "outputs": [],
   "source": [
    "print(YY[1,0,:,-1])\n",
    "print(YY.shape)"
   ]
  }
 ],
 "metadata": {
  "kernelspec": {
   "display_name": "Python 3.10.4 64-bit",
   "language": "python",
   "name": "python3"
  },
  "language_info": {
   "codemirror_mode": {
    "name": "ipython",
    "version": 3
   },
   "file_extension": ".py",
   "mimetype": "text/x-python",
   "name": "python",
   "nbconvert_exporter": "python",
   "pygments_lexer": "ipython3",
   "version": "3.10.4"
  },
  "orig_nbformat": 4,
  "vscode": {
   "interpreter": {
    "hash": "26de051ba29f2982a8de78e945f0abaf191376122a1563185a90213a26c5da77"
   }
  }
 },
 "nbformat": 4,
 "nbformat_minor": 2
}
