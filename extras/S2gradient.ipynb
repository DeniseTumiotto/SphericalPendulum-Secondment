{
 "cells": [
  {
   "cell_type": "code",
   "execution_count": 18,
   "metadata": {},
   "outputs": [],
   "source": [
    "import numpy as np\n",
    "import matplotlib.pyplot as plt\n",
    "from scipy.linalg import expm\n",
    "from scipy.optimize import fsolve\n",
    "import datetime"
   ]
  },
  {
   "cell_type": "markdown",
   "metadata": {},
   "source": [
    "## Analysis of the log-norm on $S^2$\n",
    "Suppose that a vector field is expressed in local coordinates as $Y= Y^1\\partial_1 + Y^2\\partial_2$ \n",
    "where $\\partial_1 = \\partial_\\phi,\\ \\partial_2 = \\partial_\\theta$. \n",
    "Its Jacobian matrix is denoted $B=B(Y^1,Y^2)$. We have found that the contractivity of such a problem amounts to studying when the quantity\n",
    "\n",
    "$$\\mu_g(L(Y))=  \\lambda_{\\max}\\left[ \\tfrac12 (GL(Y)G^{-1}+L(Y)^T)\\right]$$\n",
    "\n",
    "is non-positive. Here $G$ is the metric tensor with respect to the coordinates and $L(Y)$ is the\n",
    "matrix of the linear map $X\\mapsto \\nabla_X Y$ expressed in the same coordinates. In spherical coordinates it is well-known that\n",
    "\n",
    "$$\n",
    "    G =\\left[ \\begin{array}{cc} 1 & 0 \\\\ 0 & \\cos^2\\phi \\end{array} \\right]\n",
    "$$\n",
    "One can calculate the Christoffel symbols\n",
    "\n",
    "$$\n",
    "\\Gamma^1_{ij} = \\left[\\begin{array}{cc} 0 & 0\\\\ 0 & \\sin\\phi\\cos\\phi\\end{array}\\right],\\qquad\n",
    "\\Gamma^2_{ij} = \\left[\\begin{array}{cc} 0 & -\\tan\\phi\\\\ -\\tan\\phi & 0\\end{array}\\right]\n",
    "$$\n",
    "\n",
    "The connection therefore takes the following expression in spherical coordinates\n",
    "\n",
    "$$\n",
    "\\nabla_X Y = \\nabla_X (Y^i\\partial_i) = X(Y^i)\\partial_i + X^j Y^i\\nabla_{\\partial_j}\\partial_i\n",
    "$$\n",
    "\n",
    "The first term is simply $X^j\\partial_j(Y^i)\\partial_i = (B X)^i$. In the second we use the Christoffel symbols\n",
    "$\\nabla_{\\partial_j}\\partial_i = \\Gamma^m_{ij}\\partial_m$ to get $X^j Y^i\\nabla_{\\partial_j}\\partial_i=(AX)^m$ where $A^m_j = \\Gamma^m_{ij} Y^i$. We can conclude that in the above expression $L=L(Y)=A+B$.\n",
    "\n",
    "$$\n",
    "    \\left[\\begin{array}{cc} b_{11} & \\tfrac12(\\frac{b_{12}}{\\cos^2\\phi}+b_{21})\\\\\n",
    " \\tfrac12(\\cos^2\\phi\\; b_{21} + b_{12}) & b_{22}  -Y_1\\tan\\phi \\end{array}\\right]\n",
    "$$\n"
   ]
  },
  {
   "cell_type": "code",
   "execution_count": 19,
   "metadata": {},
   "outputs": [],
   "source": [
    "def spherical2cart(s):\n",
    "    return np.array([np.cos(s[0])*np.cos(s[1]), np.cos(s[0])*np.sin(s[1]),np.sin(s[0])])\n",
    "\n",
    "\n",
    "def cart2spherical(y):\n",
    "    try:\n",
    "        np.linalg.norm(y) < 1 + 1e-6 or np.linalg.norm(y) > 1 - 1e-6\n",
    "    except:\n",
    "        raise Exception('Not on the sphere')\n",
    "    return np.array([np.arcsin(y[2]), np.arctan2(y[1],y[0])])\n",
    "\n",
    "def rDistance(y,z):\n",
    "    return 2*np.arcsin(np.linalg.norm(y-z,2)/2)\n",
    "\n",
    "def skew(v):\n",
    "    return np.array([[0,-v[2],v[1]],[v[2],0,-v[0]],[-v[1],v[0],0]])\n",
    "\n",
    "def ProjS2(p,q,t):\n",
    "    return ((1-t)*p+t*q)/np.linalg.norm((1-t)*p+t*q)"
   ]
  },
  {
   "cell_type": "markdown",
   "metadata": {},
   "source": [
    "Let's consider the following energy function on a sphere, $q\\in S^2$\n",
    "$$E(q)=\\frac{1}{2}q^\\top Dq$$\n",
    "We consider the gradient and its projection on the tangent space $TS^2$\n",
    "$$\\text{grad}E(q)=\\left(\\mathbb{I}-qq^\\top\\right)Dq.$$\n",
    "\n",
    "The equations leading the problem are\n",
    "$$\n",
    "\\dot{q}=-\\text{grad}E(q)=-Dq+2E(q)q\n",
    "$$\n",
    "\n",
    "where we choose\n",
    "$$D=\\begin{pmatrix}\n",
    "a &0 &0\\\\\n",
    "0 &a &0\\\\\n",
    "0 &0 &c\n",
    "\\end{pmatrix}$$\n",
    "ending up with the problem\n",
    "\n",
    "$$\\dot{q}=\\begin{pmatrix}\n",
    "2E(q)-a &0 &0\\\\\n",
    "0 &2E(q)-a &0\\\\\n",
    "0 &0 &2E(q)-c\n",
    "\\end{pmatrix}\\cdot q$$\n",
    "\n",
    "\n",
    "In order to write the problem as $\\dot{y}=A(y)\\cdot y$, with $A(y)$ skew symmetric, we manipulate the equations.\n",
    "Let $f$ be the gradient of the energy. Then we have\n",
    "$$\\dot{y} = -(fy^\\top-yf^\\top)\\cdot y$$\n",
    "It is easy to verify that $(fy^\\top-yf^\\top)$ is skew symmetric by construction and that the right hand side is equivalent to the negative gradient."
   ]
  },
  {
   "cell_type": "code",
   "execution_count": 20,
   "metadata": {},
   "outputs": [],
   "source": [
    "def symmJac(A,B,y):\n",
    "    return np.array([[B[0,0], 0.5*(B[0,1]/(np.cos(y[0])**2)+B[1,0])],[0.5*(np.cos(y[0])**2*B[1,0]+B[0,1]), B[1,1]-A[0]*np.tan(y[0])]])"
   ]
  },
  {
   "cell_type": "code",
   "execution_count": 26,
   "metadata": {},
   "outputs": [
    {
     "name": "stdout",
     "output_type": "stream",
     "text": [
      "[[5.07844602 0.         0.        ]\n",
      " [0.         5.07844602 0.        ]\n",
      " [0.         0.         1.76565764]]\n",
      "9.80000098002587e-07\n",
      "[-0.91221972 -0.91221972]\n",
      "[0.92815564 1.0209712 ]\n"
     ]
    }
   ],
   "source": [
    "# initialization\n",
    "I1 = np.random.rand(1)\n",
    "I3 = np.random.rand(1)\n",
    "if I1 > I3:\n",
    "    tmp = np.copy(I3)\n",
    "    I3 = np.copy(I1)\n",
    "    I1 = np.copy(tmp)\n",
    "I2 = np.copy(I1)\n",
    "diag = np.array([1/I1, 1/I2, 1/I3]).reshape(3,)\n",
    "Inertia = np.diag(diag)\n",
    "\n",
    "print(Inertia)\n",
    "\n",
    "h = np.arange(0.1,10.0,0.1)\n",
    "N = np.size(h)\n",
    "nTime = 10000000\n",
    "time = np.linspace(h[0],h[-1],nTime)\n",
    "dt = time[1]-time[0]\n",
    "maxIt = 30\n",
    "tol = 1e-12\n",
    "\n",
    "print(dt)\n",
    "\n",
    "phi0 = np.zeros((2,))\n",
    "theta0 = np.zeros((2,))\n",
    "phi0[0]=-np.pi/4+(np.pi/4-1)*np.random.rand()\n",
    "theta0[0]=2*np.pi*np.random.rand()\n",
    "phi0[1]=phi0[0]\n",
    "theta0[1]=theta0[0]+0.1*theta0[0]\n",
    "\n",
    "q = np.zeros((3,2,3,N+1))\n",
    "RD = np.zeros((3,N+1))\n",
    "q[0,0,:,0] = spherical2cart([phi0[0],theta0[0]])\n",
    "q[0,1,:,0] = spherical2cart([phi0[1],theta0[1]])\n",
    "q[1,0,:,0] = np.copy(q[0,0,:,0])\n",
    "q[1,1,:,0] = np.copy(q[0,1,:,0])\n",
    "q[2,0,:,0] = np.copy(q[0,0,:,0])\n",
    "q[2,1,:,0] = np.copy(q[0,1,:,0])\n",
    "RD[0,0] = rDistance(q[0,0,:,0],q[0,1,:,0])\n",
    "RD[1,0] = rDistance(q[0,0,:,0],q[0,1,:,0])\n",
    "RD[2,0] = rDistance(q[0,0,:,0],q[0,1,:,0])\n",
    "\n",
    "print(phi0)\n",
    "print(theta0)"
   ]
  },
  {
   "cell_type": "code",
   "execution_count": 27,
   "metadata": {},
   "outputs": [],
   "source": [
    "def negSkwMatrix(x,D):\n",
    "    f = ((np.eye(3)-x*np.transpose(x))@D)@x\n",
    "    return f*np.transpose(x)-x*np.transpose(f)\n",
    "\n",
    "def energy(x,D):\n",
    "    return 0.5*np.transpose(x)@D@x\n",
    "\n",
    "def LieEuler(x0,x,D,dt):\n",
    "    x0 = x0.reshape(3,1)\n",
    "    x = x.reshape(3,1)\n",
    "    return expm(dt*(-negSkwMatrix(x,D)))@x0.reshape(3,)\n",
    "\n",
    "my_fun = lambda x, x0, D, dt : - x + LieEuler(x0, x, D, dt)"
   ]
  },
  {
   "cell_type": "code",
   "execution_count": 17,
   "metadata": {},
   "outputs": [],
   "source": [
    "now = datetime.datetime.now().strftime('%Y%m%dT%H%M%S')\n",
    "\n",
    "tmpExact = np.zeros((2,3,nTime+1))\n",
    "tmpExact[0,:,0] = np.copy(q[0,0,:,0])\n",
    "tmpExact[1,:,0] = np.copy(q[0,1,:,0])\n",
    "for cnt in range(nTime):\n",
    "    for j in range(2):\n",
    "        tmpExact[j,:,cnt+1] = fsolve(my_fun, tmpExact[j,:,cnt], args=(tmpExact[j,:,cnt], Inertia, dt))\n",
    "\n",
    "for k in range(N):\n",
    "    for j in range(2):\n",
    "        q[0,j,:,k+1] = LieEuler(q[0,j,:,0],q[0,j,:,0],Inertia,h[k])\n",
    "        q[1,j,:,k+1] = fsolve(my_fun, q[1,j,:,k], args=(q[1,j,:,0], Inertia, h[k]))\n",
    "        q[2,j,:,k+1] = tmpExact[j,:,k*(nTime//N)]\n",
    "    RD[0,k+1] = rDistance(q[0,0,:,k+1],q[0,1,:,k+1])\n",
    "    RD[1,k+1] = rDistance(q[1,0,:,k+1],q[1,1,:,k+1])\n",
    "    RD[2,k+1] = rDistance(q[2,0,:,k+1],q[2,1,:,k+1])\n",
    "\n",
    "np.save('../out/'+now+'_S2_sols',q)\n",
    "np.save('../out/'+now+'_S2_dist',RD)"
   ]
  },
  {
   "cell_type": "code",
   "execution_count": 13,
   "metadata": {},
   "outputs": [
    {
     "data": {
      "image/png": "[encoded data removed]",
      "text/plain": [
       "<Figure size 432x288 with 1 Axes>"
      ]
     },
     "metadata": {
      "needs_background": "light"
     },
     "output_type": "display_data"
    }
   ],
   "source": [
    "fig1 = plt.figure()\n",
    "plt.plot(h, RD[0,1:], label='one step explicit Lie Euler')\n",
    "plt.plot(h, RD[1,1:], label='one step implicit Lie Euler')\n",
    "plt.plot(h, RD[2,1:], label='exact solution')\n",
    "plt.plot(h, RD[0,0]*np.ones((N, )), label='initial distance')\n",
    "plt.legend()\n",
    "plt.grid()\n",
    "\n",
    "plt.show()"
   ]
  }
 ],
 "metadata": {
  "kernelspec": {
   "display_name": "Python 3.10.4 64-bit",
   "language": "python",
   "name": "python3"
  },
  "language_info": {
   "codemirror_mode": {
    "name": "ipython",
    "version": 3
   },
   "file_extension": ".py",
   "mimetype": "text/x-python",
   "name": "python",
   "nbconvert_exporter": "python",
   "pygments_lexer": "ipython3",
   "version": "3.10.4"
  },
  "orig_nbformat": 4,
  "vscode": {
   "interpreter": {
    "hash": "26de051ba29f2982a8de78e945f0abaf191376122a1563185a90213a26c5da77"
   }
  }
 },
 "nbformat": 4,
 "nbformat_minor": 2
}
