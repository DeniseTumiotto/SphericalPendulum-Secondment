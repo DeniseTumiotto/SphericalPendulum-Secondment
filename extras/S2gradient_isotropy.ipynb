{
 "cells": [
  {
   "cell_type": "code",
   "execution_count": 1,
   "metadata": {},
   "outputs": [],
   "source": [
    "import numpy as np\n",
    "import matplotlib.pyplot as plt\n",
    "import datetime\n",
    "import integrLie as lie"
   ]
  },
  {
   "cell_type": "code",
   "execution_count": 2,
   "metadata": {},
   "outputs": [],
   "source": [
    "def spherical2cart(s):\n",
    "    return np.array([np.cos(s[0])*np.cos(s[1]), np.cos(s[0])*np.sin(s[1]),np.sin(s[0])])\n",
    "\n",
    "def cart2spherical(y):\n",
    "    try:\n",
    "        np.linalg.norm(y) < 1 + 1e-6 or np.linalg.norm(y) > 1 - 1e-6\n",
    "    except:\n",
    "        raise Exception('Not on the sphere')\n",
    "    return np.array([np.arcsin(y[2]), np.arctan2(y[1],y[0])])\n",
    "\n",
    "def rDistance(y,z):\n",
    "    # return 2*np.arcsin(np.linalg.norm(y-z,2)/2)\n",
    "    y = y.reshape(1,3)\n",
    "    z = z.reshape(3,1)\n",
    "    return np.arccos(y@z)\n",
    "\n",
    "def ProjS2(p,q,t):\n",
    "    return ((1-t)*p+t*q)/np.linalg.norm((1-t)*p+t*q)"
   ]
  },
  {
   "cell_type": "code",
   "execution_count": 3,
   "metadata": {},
   "outputs": [],
   "source": [
    "def negSkwMatrix(x,D):\n",
    "    x = x.reshape(3,1)\n",
    "    f = ((np.eye(3)-x*np.transpose(x))@D)@x\n",
    "    rslt = f*np.transpose(x)-x*np.transpose(f)\n",
    "    return rslt\n",
    "\n",
    "def vecField(x,D,C):\n",
    "    rslt = (-negSkwMatrix(x,D)+C*lie.skw(x))@x\n",
    "    return rslt\n",
    "\n",
    "def energy(x,D):\n",
    "    return 0.5*np.transpose(x)@D@x"
   ]
  },
  {
   "cell_type": "code",
   "execution_count": 4,
   "metadata": {},
   "outputs": [],
   "source": [
    "# initialization\n",
    "I1 = 0.5\n",
    "I3 = 1.0\n",
    "if I1 > I3:\n",
    "    tmp = np.copy(I3)\n",
    "    I3  = np.copy(I1)\n",
    "    I1  = np.copy(tmp)\n",
    "I2      = np.copy(I1)\n",
    "diag    = np.array([1/I1, 1/I2, 1/I3]).reshape(3,)\n",
    "Inertia = np.diag(diag)\n",
    "\n",
    "C       = [0, 2, 5, 10, 20]\n",
    "C_size  = len(C)\n",
    "\n",
    "dt      = 0.1\n",
    "my_time = np.arange(0, 5, dt)\n",
    "N       = my_time.size\n",
    "\n",
    "phi0   = - np.pi/2 + np.random.rand()\n",
    "theta0 = 2*np.pi*np.random.rand()\n",
    "\n",
    "q = np.zeros((C_size,3,N))\n",
    "q[0,:,0] = spherical2cart([phi0,theta0])\n",
    "for j in range(C_size-1):\n",
    "    q[j+1,:,0] = np.copy(q[0,:,0])"
   ]
  },
  {
   "cell_type": "code",
   "execution_count": 5,
   "metadata": {},
   "outputs": [],
   "source": [
    "now = datetime.datetime.now().strftime('%Y%m%dT%H%M%S')\n",
    "\n",
    "for cc, the_c in enumerate(C):\n",
    "    for cnt in range(N-1):\n",
    "        q[cc,:,cnt+1] = lie.implieeul(lambda x: lie.skwinv(-negSkwMatrix(x, Inertia)+the_c*lie.skw(x)), q[cc,:,cnt], q[cc,:,cnt], dt)\n",
    "        \n",
    "np.save('../out/'+now+'_isotropy_sols',q)"
   ]
  }
 ],
 "metadata": {
  "kernelspec": {
   "display_name": "Python 3.10.4 64-bit",
   "language": "python",
   "name": "python3"
  },
  "language_info": {
   "codemirror_mode": {
    "name": "ipython",
    "version": 3
   },
   "file_extension": ".py",
   "mimetype": "text/x-python",
   "name": "python",
   "nbconvert_exporter": "python",
   "pygments_lexer": "ipython3",
   "version": "3.10.4"
  },
  "orig_nbformat": 4,
  "vscode": {
   "interpreter": {
    "hash": "26de051ba29f2982a8de78e945f0abaf191376122a1563185a90213a26c5da77"
   }
  }
 },
 "nbformat": 4,
 "nbformat_minor": 2
}
