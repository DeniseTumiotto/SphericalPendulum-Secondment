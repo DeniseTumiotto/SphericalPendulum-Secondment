{
 "cells": [
  {
   "attachments": {},
   "cell_type": "markdown",
   "metadata": {},
   "source": [
    "## <p style=\"text-align: center;\">Dahlquist's test equation</p>\n",
    "To analyze the stability of a numerical method, the Dahlquist's test equation is frequently used.\n",
    "$$ \\begin{cases}\n",
    "\\dot{y}=\\lambda y \\\\\n",
    "y(0) = y_0\n",
    "\\end{cases}$$\n",
    "#### Stability of one step methods\n",
    "Once determined which numerical method to study, one apply the method for the first time step only.\n",
    "The result looks something like\n",
    "$$y_1=y_0+\\Phi(t_0+h,\\mathbf{y})\\qquad \\text{or}\\qquad y_1 = R(z)y_0$$\n",
    "where $R(z)$ is the stability function and $z=\\lambda h$.\\\\\n",
    "The stability region is determined by $S\\coloneqq\\{z\\in\\mathbb{C}:\\vert R(z)\\vert\\leq 1\\}$\n"
   ]
  },
  {
   "cell_type": "code",
   "execution_count": null,
   "metadata": {},
   "outputs": [],
   "source": [
    "def dahleq(x,lam):\n",
    "    return lam*x"
   ]
  }
 ],
 "metadata": {
  "kernelspec": {
   "display_name": "Python 3",
   "language": "python",
   "name": "python3"
  },
  "language_info": {
   "name": "python",
   "version": "3.10.4 (tags/v3.10.4:9d38120, Mar 23 2022, 23:13:41) [MSC v.1929 64 bit (AMD64)]"
  },
  "orig_nbformat": 4,
  "vscode": {
   "interpreter": {
    "hash": "26de051ba29f2982a8de78e945f0abaf191376122a1563185a90213a26c5da77"
   }
  }
 },
 "nbformat": 4,
 "nbformat_minor": 2
}
